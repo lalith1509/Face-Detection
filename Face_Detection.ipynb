{
  "nbformat": 4,
  "nbformat_minor": 0,
  "metadata": {
    "colab": {
      "provenance": [],
      "authorship_tag": "ABX9TyPLS9I4aFV1Asy7w0XcS0Mn",
      "include_colab_link": true
    },
    "kernelspec": {
      "name": "python3",
      "display_name": "Python 3"
    },
    "language_info": {
      "name": "python"
    }
  },
  "cells": [
    {
      "cell_type": "markdown",
      "metadata": {
        "id": "view-in-github",
        "colab_type": "text"
      },
      "source": [
        "<a href=\"https://colab.research.google.com/github/lalith1509/Face_Detection/blob/main/Face_Detection.ipynb\" target=\"_parent\"><img src=\"https://colab.research.google.com/assets/colab-badge.svg\" alt=\"Open In Colab\"/></a>"
      ]
    },
    {
      "cell_type": "code",
      "execution_count": 2,
      "metadata": {
        "colab": {
          "base_uri": "https://localhost:8080/"
        },
        "id": "JKp1S4AKflTn",
        "outputId": "45cad19f-ac0a-4ac3-d93f-e14373d32c6e"
      },
      "outputs": [
        {
          "output_type": "stream",
          "name": "stdout",
          "text": [
            "Highest-ever*11\n"
          ]
        }
      ],
      "source": [
        "import random\n",
        "\n",
        "words = []\n",
        "all_password = []\n",
        "special = random.choice([\"!\",\"@\",\"#\",\"$\",\"%\",\"^\",\"&\",\"*\"])\n",
        "num = str(random.randint(10,99))\n",
        "\n",
        "with open(\"example.txt\",\"r\") as file:\n",
        "    lines = file.readlines()\n",
        "    for line in lines:\n",
        "        word = line.split()\n",
        "        for items in word:\n",
        "            if len(items) >= 5:\n",
        "                words.append(items.capitalize())\n",
        "\n",
        "print(random.choice(words) + special + num)\n",
        ""
      ]
    }
  ]
}